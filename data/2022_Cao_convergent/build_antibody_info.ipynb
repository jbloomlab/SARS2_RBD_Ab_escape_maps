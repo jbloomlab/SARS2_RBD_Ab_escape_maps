{
 "cells": [
  {
   "cell_type": "markdown",
   "id": "1c1e2aeb-01c7-41d4-a00f-2a33d88eedf7",
   "metadata": {},
   "source": [
    "# Extract antibody information\n",
    "Extract the antibody information provided by Cao et al in an Excel file into a pandas DataFrame and save to a CSV.\n",
    "\n",
    "Import Python modules:"
   ]
  },
  {
   "cell_type": "code",
   "execution_count": 1,
   "id": "217e9719-cc02-4096-ba50-a5ba9ff02ded",
   "metadata": {
    "execution": {
     "iopub.execute_input": "2023-03-08T17:38:56.204131Z",
     "iopub.status.busy": "2023-03-08T17:38:56.203897Z",
     "iopub.status.idle": "2023-03-08T17:38:57.380397Z",
     "shell.execute_reply": "2023-03-08T17:38:57.379720Z",
     "shell.execute_reply.started": "2023-03-08T17:38:56.204051Z"
    }
   },
   "outputs": [],
   "source": [
    "import pandas as pd"
   ]
  },
  {
   "cell_type": "markdown",
   "id": "a9feebc8-33c9-43af-809e-d5f09b2ee996",
   "metadata": {},
   "source": [
    "Read the data in the Excel file:"
   ]
  },
  {
   "cell_type": "code",
   "execution_count": 2,
   "id": "852b04f8-be78-4176-a01e-d253ef81cfe5",
   "metadata": {
    "execution": {
     "iopub.execute_input": "2023-03-08T17:38:57.383545Z",
     "iopub.status.busy": "2023-03-08T17:38:57.383385Z",
     "iopub.status.idle": "2023-03-08T17:39:33.060666Z",
     "shell.execute_reply": "2023-03-08T17:39:33.059912Z",
     "shell.execute_reply.started": "2023-03-08T17:38:57.383523Z"
    },
    "tags": []
   },
   "outputs": [],
   "source": [
    "raw_info = pd.read_excel(\n",
    "    \"covergent_RBD_evolution/antibody_info.xlsx\",\n",
    "    header=1,\n",
    "    sheet_name=None,\n",
    "    usecols=lambda c: not c.startswith(\"Unnamed\"),\n",
    ")"
   ]
  },
  {
   "cell_type": "markdown",
   "id": "b228ebca-41f0-4e26-9efe-2b06870bc6ff",
   "metadata": {},
   "source": [
    "Look at the columns in the sheets and get the shared columns:"
   ]
  },
  {
   "cell_type": "code",
   "execution_count": 3,
   "id": "c6505137-ba7a-4307-9ade-6c1ff1409e2c",
   "metadata": {
    "execution": {
     "iopub.execute_input": "2023-03-08T17:39:33.063890Z",
     "iopub.status.busy": "2023-03-08T17:39:33.063696Z",
     "iopub.status.idle": "2023-03-08T17:39:33.139215Z",
     "shell.execute_reply": "2023-03-08T17:39:33.138687Z",
     "shell.execute_reply.started": "2023-03-08T17:39:33.063870Z"
    },
    "tags": []
   },
   "outputs": [
    {
     "name": "stdout",
     "output_type": "stream",
     "text": [
      "\n",
      "sheetname='cross'\n",
      "columns=['Antibody  Name', 'Epitope Group', 'source', 'D614G', 'BA.1', 'BA.2', 'BA.2.75', 'BA.5', 'BQ.1.1', 'XBB', 'Heavy chain V gene', 'Heavy chain J gene', 'Light chain V gene', 'Light chain J gene', 'Heavy chain AA', 'Light chain AA']\n",
      "\n",
      "sheetname='specific'\n",
      "columns=['Antibody  Name', 'source', 'D614G', 'BA.1', 'BA.2', 'BA.5', 'BA.2.75', 'BA.2.75.2', 'CA.1', 'BQ.1.1', 'BR.2', 'BM.1.1.1', 'XBB', 'Heavy chain V gene', 'Heavy chain J gene', 'Light chain V gene', 'Light chain J gene', 'Heavy chain AA', 'Light chain AA']\n",
      "\n",
      "Common columns: ['Antibody  Name', 'source', 'D614G', 'BA.1', 'BA.2', 'BA.5', 'BA.2.75', 'BQ.1.1', 'XBB', 'Heavy chain V gene', 'Heavy chain J gene', 'Light chain V gene', 'Light chain J gene', 'Heavy chain AA', 'Light chain AA']\n",
      "\n",
      "Read information for 3333 antibodies\n"
     ]
    },
    {
     "data": {
      "text/html": [
       "<div>\n",
       "<style scoped>\n",
       "    .dataframe tbody tr th:only-of-type {\n",
       "        vertical-align: middle;\n",
       "    }\n",
       "\n",
       "    .dataframe tbody tr th {\n",
       "        vertical-align: top;\n",
       "    }\n",
       "\n",
       "    .dataframe thead th {\n",
       "        text-align: right;\n",
       "    }\n",
       "</style>\n",
       "<table border=\"1\" class=\"dataframe\">\n",
       "  <thead>\n",
       "    <tr style=\"text-align: right;\">\n",
       "      <th></th>\n",
       "      <th>n_antibodies</th>\n",
       "    </tr>\n",
       "    <tr>\n",
       "      <th>source</th>\n",
       "      <th></th>\n",
       "    </tr>\n",
       "  </thead>\n",
       "  <tbody>\n",
       "    <tr>\n",
       "      <th>BA.1 convalescents</th>\n",
       "      <td>752</td>\n",
       "    </tr>\n",
       "    <tr>\n",
       "      <th>BA.2 convalescents</th>\n",
       "      <td>751</td>\n",
       "    </tr>\n",
       "    <tr>\n",
       "      <th>BA.5 convalescents</th>\n",
       "      <td>269</td>\n",
       "    </tr>\n",
       "    <tr>\n",
       "      <th>SARS convalescents</th>\n",
       "      <td>881</td>\n",
       "    </tr>\n",
       "    <tr>\n",
       "      <th>WT convalescents</th>\n",
       "      <td>438</td>\n",
       "    </tr>\n",
       "    <tr>\n",
       "      <th>WT vaccinees</th>\n",
       "      <td>240</td>\n",
       "    </tr>\n",
       "    <tr>\n",
       "      <th>WT-engineered</th>\n",
       "      <td>2</td>\n",
       "    </tr>\n",
       "  </tbody>\n",
       "</table>\n",
       "</div>"
      ],
      "text/plain": [
       "                    n_antibodies\n",
       "source                          \n",
       "BA.1 convalescents           752\n",
       "BA.2 convalescents           751\n",
       "BA.5 convalescents           269\n",
       "SARS convalescents           881\n",
       "WT convalescents             438\n",
       "WT vaccinees                 240\n",
       "WT-engineered                  2"
      ]
     },
     "metadata": {},
     "output_type": "display_data"
    }
   ],
   "source": [
    "common_cols = None\n",
    "\n",
    "for sheetname, sheet in raw_info.items():\n",
    "    columns = sheet.columns.tolist()\n",
    "    print(f\"\\n{sheetname=}\\n{columns=}\")\n",
    "    if common_cols is None:\n",
    "        common_cols = columns\n",
    "    else:\n",
    "        common_cols = [\n",
    "            c for c in columns if c in set(common_cols).intersection(columns)\n",
    "        ]\n",
    "        \n",
    "print(f\"\\nCommon columns: {common_cols}\")\n",
    "\n",
    "info = pd.concat([sheet[common_cols] for sheet in raw_info.values()], ignore_index=True)\n",
    "\n",
    "assert len(info) == info[\"Antibody  Name\"].nunique()\n",
    "\n",
    "print(f\"\\nRead information for {len(info)} antibodies\")\n",
    "\n",
    "display(\n",
    "    info.groupby(\"source\")\n",
    "    .aggregate(n_antibodies=pd.NamedAgg(\"Antibody  Name\", \"nunique\"))\n",
    ")\n",
    "\n",
    "info.to_csv(\"antibody_info.csv\", index=False)"
   ]
  }
 ],
 "metadata": {
  "kernelspec": {
   "display_name": "Python 3 (ipykernel)",
   "language": "python",
   "name": "python3"
  },
  "language_info": {
   "codemirror_mode": {
    "name": "ipython",
    "version": 3
   },
   "file_extension": ".py",
   "mimetype": "text/x-python",
   "name": "python",
   "nbconvert_exporter": "python",
   "pygments_lexer": "ipython3",
   "version": "3.8.12"
  }
 },
 "nbformat": 4,
 "nbformat_minor": 5
}
